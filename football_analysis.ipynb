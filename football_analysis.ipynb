# Football Player Performance Analysis
Analyze football player statistics over a season to identify top performers and overall trends.

## Project Objective
The goal of this project is to explore and visualize football player statistics (goals, assists, minutes played, etc.) over one season using Python and data visualization libraries.


import pandas as pd
import matplotlib.pyplot as plt
import seaborn as sns

sns.set(style="whitegrid")

## Load Data
We load a CSV file containing player performance statistics.

df = pd.read_csv("data/players.csv")
df.head()

## Initial Data Exploration
Quick overview of data structure and types.

df.info()

## Overall Averages
Calculate the average goals, assists, and minutes played.

print("Average goals:", df["Goals"].mean())
print("Average assists:", df["Assists"].mean())
print("Average minutes played:", df["Minutes"].mean())

## Top 5 Goal Scorers

top_scorers = df.sort_values(by="Goals", ascending=False).head(5)
top_scorers[["Player", "Goals"]]

plt.figure(figsize=(10,6))
sns.barplot(data=top_scorers, x="Player", y="Goals", palette="viridis")
plt.title("Top 5 Goal Scorers")
plt.ylabel("Goals Scored")
plt.xlabel("Player")
plt.show()

## Top 5 Assist Providers

top_assists = df.sort_values(by="Assists", ascending=False).head(5)
top_assists[["Player", "Assists"]]

plt.figure(figsize=(10,6))
sns.barplot(data=top_assists, x="Player", y="Assists", palette="magma")
plt.title("Top 5 Assist Providers")
plt.ylabel("Assists")
plt.xlabel("Player")
plt.show()

## Top 5 Players by Total Contributions (Goals + Assists)

df["Total_Contributions"] = df["Goals"] + df["Assists"]
top_total = df.sort_values(by="Total_Contributions", ascending=False).head(5)
top_total[["Player", "Goals", "Assists", "Total_Contributions"]]

plt.figure(figsize=(10,6))
sns.barplot(data=top_total, x="Player", y="Total_Contributions", palette="cubehelix")
plt.title("Top 5 Players by Total Contributions")
plt.ylabel("Goals + Assists")
plt.xlabel("Player")
plt.show()

## Conclusion
From the analysis, we identified:
- The top 5 goal scorers
- The best assist providers
- The most impactful players in terms of total contributions

These insights can help understand player performance over the season.
